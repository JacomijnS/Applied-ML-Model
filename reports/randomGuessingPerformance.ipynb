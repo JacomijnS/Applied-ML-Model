{
 "cells": [
  {
   "cell_type": "markdown",
   "id": "057aba3f",
   "metadata": {},
   "source": [
    "### How to prove we are better than random guessing\n",
    "\n",
    "We have an interesting situation where we work with bounding boxes, resulting in a more difficult way to prove that we are better than random guessing. We will show multiple ways to prove that we are better than random guessing."
   ]
  },
  {
   "cell_type": "markdown",
   "id": "3af98239",
   "metadata": {},
   "source": [
    "### Download Model"
   ]
  },
  {
   "cell_type": "code",
   "execution_count": null,
   "id": "00c11277",
   "metadata": {},
   "outputs": [],
   "source": [
    "import sys\n",
    "sys.path.append('..')\n",
    "from project_name.models.yoloModel import YOLOModel\n",
    "model = YOLOModel()\n",
    "model.load_model(\"../runs/obb/train6/weights/best.pt\")"
   ]
  },
  {
   "cell_type": "markdown",
   "id": "34474148",
   "metadata": {},
   "source": [
    "Let us now predict for every model and store the results"
   ]
  },
  {
   "cell_type": "code",
   "execution_count": null,
   "id": "766831e2",
   "metadata": {},
   "outputs": [
    {
     "ename": "TypeError",
     "evalue": "YOLOModel.predict() takes 1 positional argument but 2 were given",
     "output_type": "error",
     "traceback": [
      "\u001b[31m---------------------------------------------------------------------------\u001b[39m",
      "\u001b[31mTypeError\u001b[39m                                 Traceback (most recent call last)",
      "\u001b[36mCell\u001b[39m\u001b[36m \u001b[39m\u001b[32mIn[30]\u001b[39m\u001b[32m, line 16\u001b[39m\n\u001b[32m     14\u001b[39m label_path = os.path.join(labels_dir, label_filename)\n\u001b[32m     15\u001b[39m image_dir = images_dir + image\n\u001b[32m---> \u001b[39m\u001b[32m16\u001b[39m results = \u001b[43mmodel\u001b[49m\u001b[43m.\u001b[49m\u001b[43mpredict\u001b[49m\u001b[43m(\u001b[49m\u001b[43mimage_dir\u001b[49m\u001b[43m)\u001b[49m\n\u001b[32m     18\u001b[39m label = \u001b[33m'\u001b[39m\u001b[33m'\u001b[39m\n\u001b[32m     20\u001b[39m \u001b[38;5;66;03m# check and print corresponding label if it exists\u001b[39;00m\n",
      "\u001b[31mTypeError\u001b[39m: YOLOModel.predict() takes 1 positional argument but 2 were given"
     ]
    }
   ],
   "source": [
    "import os\n",
    "\n",
    "data_dir = '../project_name/data/valid/'\n",
    "images_dir = data_dir + 'images/'\n",
    "labels_dir = data_dir + 'labels/'\n",
    "\n",
    "image_paths = os.listdir(images_dir)\n",
    "i = 0\n",
    "\n",
    "predictions = []\n",
    "\n",
    "for image in image_paths:\n",
    "    label_filename = os.path.splitext(image)[0] + '.txt'\n",
    "    label_path = os.path.join(labels_dir, label_filename)\n",
    "\n",
    "    results = model.predict(source= images_dir + image, save=False)\n",
    "\n",
    "    label = ''\n",
    "\n",
    "    # check and print corresponding label if it exists\n",
    "    if os.path.exists(label_path):\n",
    "        with open(label_path, 'r') as f:\n",
    "            label = f.read()\n",
    "    else:\n",
    "        print(f\"No label file found for {image}\")\n",
    "\n",
    "    predictions.append((image, results, label))\n",
    "\n",
    "\n",
    "    "
   ]
  },
  {
   "cell_type": "markdown",
   "id": "ce46cd41",
   "metadata": {},
   "source": [
    "First we check if it labels an image if it has a fracture and if it labels when it does not have a fracture"
   ]
  },
  {
   "cell_type": "code",
   "execution_count": null,
   "id": "1f1117a2",
   "metadata": {},
   "outputs": [],
   "source": [
    "true_labels = []\n",
    "predicted_labels = []\n",
    "correct = 0\n",
    "\n",
    "for image, result, label in predictions:\n",
    "    has_prediction = any(r.obb.xyxy.numel() > 0 for r in result)\n",
    "    label_is_empty = len(label.strip()) == 0\n",
    "\n",
    "    true_label = 0 if label_is_empty else 1\n",
    "    predicted_label = 1 if has_prediction else 0\n",
    "\n",
    "    true_labels.append(true_label)\n",
    "    predicted_labels.append(predicted_label)\n",
    "\n"
   ]
  },
  {
   "cell_type": "markdown",
   "id": "a084cb81",
   "metadata": {},
   "source": [
    "Let us now create a confusion matrix"
   ]
  },
  {
   "cell_type": "code",
   "execution_count": 6,
   "id": "c1d1f793",
   "metadata": {},
   "outputs": [
    {
     "ename": "NameError",
     "evalue": "name 'true_labels' is not defined",
     "output_type": "error",
     "traceback": [
      "\u001b[31m---------------------------------------------------------------------------\u001b[39m",
      "\u001b[31mNameError\u001b[39m                                 Traceback (most recent call last)",
      "\u001b[36mCell\u001b[39m\u001b[36m \u001b[39m\u001b[32mIn[6]\u001b[39m\u001b[32m, line 5\u001b[39m\n\u001b[32m      2\u001b[39m \u001b[38;5;28;01mimport\u001b[39;00m\u001b[38;5;250m \u001b[39m\u001b[34;01mmatplotlib\u001b[39;00m\u001b[34;01m.\u001b[39;00m\u001b[34;01mpyplot\u001b[39;00m\u001b[38;5;250m \u001b[39m\u001b[38;5;28;01mas\u001b[39;00m\u001b[38;5;250m \u001b[39m\u001b[34;01mplt\u001b[39;00m\n\u001b[32m      4\u001b[39m \u001b[38;5;66;03m# compute confusion matrix\u001b[39;00m\n\u001b[32m----> \u001b[39m\u001b[32m5\u001b[39m cm = confusion_matrix(\u001b[43mtrue_labels\u001b[49m, predicted_labels)\n\u001b[32m      7\u001b[39m \u001b[38;5;66;03m# display confusion matrix\u001b[39;00m\n\u001b[32m      8\u001b[39m disp = ConfusionMatrixDisplay(confusion_matrix=cm, display_labels=[\u001b[33m'\u001b[39m\u001b[33mNo Fracture\u001b[39m\u001b[33m'\u001b[39m, \u001b[33m'\u001b[39m\u001b[33mFracture\u001b[39m\u001b[33m'\u001b[39m])\n",
      "\u001b[31mNameError\u001b[39m: name 'true_labels' is not defined"
     ]
    }
   ],
   "source": [
    "from sklearn.metrics import confusion_matrix, ConfusionMatrixDisplay\n",
    "import matplotlib.pyplot as plt\n",
    "\n",
    "# compute confusion matrix\n",
    "cm = confusion_matrix(true_labels, predicted_labels)\n",
    "\n",
    "# display confusion matrix\n",
    "disp = ConfusionMatrixDisplay(confusion_matrix=cm, display_labels=['No Fracture', 'Fracture'])\n",
    "disp.plot(cmap='Blues')\n",
    "plt.title('Confusion Matrix')\n",
    "plt.xlabel('Predicted Label')\n",
    "plt.ylabel('True Label')\n",
    "plt.show()"
   ]
  },
  {
   "cell_type": "markdown",
   "id": "680057fd",
   "metadata": {},
   "source": [
    "### Testing bounding boxes"
   ]
  },
  {
   "cell_type": "markdown",
   "id": "005c0c7e",
   "metadata": {},
   "source": [
    "Now we will see if the bounding boxes are better than if one would select the entire screen. We use shapify to find the IoU."
   ]
  },
  {
   "cell_type": "code",
   "execution_count": null,
   "id": "ff165754",
   "metadata": {},
   "outputs": [],
   "source": [
    "from shapely.geometry import Polygon\n",
    "\n",
    "def compute_iou(pred_poly, label_poly):\n",
    "\n",
    "    # convert to Polygon class\n",
    "    pred_polygon = Polygon(pred_poly)\n",
    "    label_polygon = Polygon(label_poly)\n",
    "\n",
    "    if not pred_polygon.is_valid or not label_polygon.is_valid:\n",
    "        # print(\"Polygon is not valid\")\n",
    "        return 0.0, 0.0\n",
    "    \n",
    "    # Get intersection and union\n",
    "    intersection_area = pred_polygon.intersection(label_polygon).area\n",
    "    union_area = pred_polygon.union(label_polygon).area\n",
    "\n",
    "    if union_area == 0:\n",
    "        return 0.0\n",
    "    \n",
    "    return intersection_area / union_area, label_polygon.area\n",
    "\n",
    "\n",
    "   \n"
   ]
  },
  {
   "cell_type": "code",
   "execution_count": 10,
   "id": "0f4cbc51",
   "metadata": {},
   "outputs": [
    {
     "name": "stdout",
     "output_type": "stream",
     "text": [
      "Random guess: 26, model: 67, total: 93\n"
     ]
    }
   ],
   "source": [
    "import torch\n",
    "\n",
    "model_better = 0\n",
    "random_guess_better = 0\n",
    "\n",
    "for image, result, label in predictions:\n",
    "    # if no label is there or the model did not predict, we are unable to calculate IoU\n",
    "    has_prediction = any(r.obb.xyxy.numel() > 0 for r in result)\n",
    "    label_is_empty = len(label.strip()) == 0\n",
    "    if label_is_empty or not has_prediction:\n",
    "        continue\n",
    "\n",
    "    # split lines of label\n",
    "    label_lines = label.splitlines()\n",
    "    \n",
    "    iou = 0.0\n",
    "    for line in label_lines:\n",
    "        if not line.strip():\n",
    "            continue  # skip empty labels, sanity check\n",
    "\n",
    "        label_parts = line.strip().split()\n",
    "        label_coords = list(map(float, label_parts[1:]))  # skip class label and make it float array\n",
    "        # print(label_coords)\n",
    "\n",
    "        # Go from a line to x y tuples\n",
    "        label_polygon = [(label_coords[i], label_coords[i + 1]) for i in range(0, len(label_coords), 2)]\n",
    " \n",
    "        label_area = 0.0\n",
    "        for r in result:\n",
    "            # print(r.obb.xyxyxyxyn)\n",
    "            pred_coords = r.obb.xyxyxyxyn.cpu().numpy().reshape(-1, 2)\n",
    "            # print(pred_coords)\n",
    "            pred_polygon = [tuple(point) for point in pred_coords]\n",
    "\n",
    "            iou_temp, label_area = compute_iou(pred_polygon, label_polygon)\n",
    "            iou = iou + iou_temp\n",
    "\n",
    "            #print(f\"IoU: {iou:.4f}\")\n",
    "            # print(f\"Label Area: {label_area:.4f}\")\n",
    "    \n",
    "    # Since coordinates of polygon are in normal coordinates, we only have t o check wether IoU is larger than label area. \n",
    "    # Since IoU of a an entire picture with another area has an union area of 1, and a intersection area of the label area.   \n",
    "    if iou > label_area:\n",
    "        model_better = model_better + 1\n",
    "    else:\n",
    "        random_guess_better = random_guess_better + 1\n",
    "\n",
    "print(f\"Random guess: {random_guess_better}, model: {model_better}, total: {random_guess_better + model_better}\")\n",
    "\n",
    "        "
   ]
  }
 ],
 "metadata": {
  "kernelspec": {
   "display_name": "yolo",
   "language": "python",
   "name": "yolo"
  },
  "language_info": {
   "codemirror_mode": {
    "name": "ipython",
    "version": 3
   },
   "file_extension": ".py",
   "mimetype": "text/x-python",
   "name": "python",
   "nbconvert_exporter": "python",
   "pygments_lexer": "ipython3",
   "version": "3.11.12"
  }
 },
 "nbformat": 4,
 "nbformat_minor": 5
}
